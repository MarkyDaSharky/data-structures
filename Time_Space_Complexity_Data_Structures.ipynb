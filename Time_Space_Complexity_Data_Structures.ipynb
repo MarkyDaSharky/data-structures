{
 "cells": [
  {
   "cell_type": "markdown",
   "metadata": {},
   "source": [
    "# Time/Space Complexity - Intro to Data Structures (User Defined)\n",
    "\n",
    "### Topics to discuss today:\n",
    "\n",
    "<ul>\n",
    "    <li>Time and Space Complexity - What is it/How do we measure it</li>\n",
    "    <li>Asymptotic Analysis</li>\n",
    "    <li><strong>Data Structures</strong></li>\n",
    "    <li>Some of the popular sorting algorithms</li>\n",
    "</ul>\n",
    "\n",
    "### Data Structures to discuss:\n",
    "- Arrays\n",
    "- Stacks\n",
    "- Queues\n",
    "- Linked Lists\n",
    "    - Singly Linked Lists\n",
    "    - Traversing A Linked List\n",
    "    - Finding a node in a linked list\n",
    "    - Adding to a linked list\n",
    "- Binary Search Trees\n",
    "    - Construction\n",
    "    - Traversal\n"
   ]
  },
  {
   "cell_type": "markdown",
   "metadata": {},
   "source": [
    "## Time and Space Complexity\n",
    "\n",
    "#### What is it?\n",
    "\n",
    "Time and space complexity is the measure of how much time a given action(function) will take to solve a problem. In the same fashion, we determine how much a given data structure will need in terms of memory allocation. A problem can have multiple solutions and finding the optimal solution for the problem needs to be analyzed in time and space.\n",
    "\n",
    "#### How do we measure Time and Space Complexity?\n",
    "\n",
    "In order to measure time and space complexity we use Asymptotic analysis. The reason for this is because we need a way to measure different algorithms (functions) based on the size of their inputs in a mathmatical way. For example, we could have a function that is computed as f(n) and another that is g(n^2). All things around the function staying constant, the only thing that changes is the size of the input. Below is the chart that shows the different Asymptotic analysis formats. "
   ]
  },
  {
   "cell_type": "markdown",
   "metadata": {},
   "source": [
    "<table style=\"text-align:center;\" class=\"table table-bordered\">\n",
    "<tbody><tr>\n",
    "<td>constant</td>\n",
    "<td>−</td>\n",
    "<td>Ο(1)</td>\n",
    "</tr>\n",
    "<tr>\n",
    "<td>logarithmic</td>\n",
    "<td>−</td>\n",
    "<td>Ο(log n)</td>\n",
    "</tr>\n",
    "<tr>\n",
    "<td>linear</td>\n",
    "<td>−</td>\n",
    "<td>Ο(n)</td>\n",
    "</tr>\n",
    "<tr>\n",
    "<td>Linear Logarithmic</td>\n",
    "<td>−</td>\n",
    "<td>Ο(n log n)</td>\n",
    "</tr>\n",
    "<tr>\n",
    "<td>quadratic</td>\n",
    "<td>−</td>\n",
    "<td>Ο(n<sup>2</sup>)</td>\n",
    "</tr>\n",
    "<tr>\n",
    "<td>cubic</td>\n",
    "<td>−</td>\n",
    "<td>Ο(n<sup>3</sup>)</td>\n",
    "</tr>\n",
    "<tr>\n",
    "<td>polynomial</td>\n",
    "<td>−</td>\n",
    "<td>n<sup>Ο(1)</sup></td>\n",
    "</tr>\n",
    "<tr>\n",
    "<td>exponential</td>\n",
    "<td>−</td>\n",
    "<td>2<sup>Ο(n)</sup></td>\n",
    "</tr>\n",
    "</tbody></table>"
   ]
  },
  {
   "cell_type": "code",
   "execution_count": null,
   "metadata": {},
   "outputs": [],
   "source": []
  },
  {
   "cell_type": "markdown",
   "metadata": {},
   "source": [
    "## Arrays"
   ]
  },
  {
   "cell_type": "markdown",
   "metadata": {},
   "source": [
    "In python we benefit from the dynamic array which means the block of memory will expand as needed for the given input to the array. In traditional arrays (depending on the type of operating system) we will usually store our inputs in 4 or 8 consecutive blocks of memory. Below is a diagram of how that looks under the hood:\n",
    "\n",
    "<img src=\"http://www.mathcs.emory.edu/~cheung/Courses/170/Syllabus/09/FIGS/array02x.gif\" style=\"height:250px; width:350px;\">"
   ]
  },
  {
   "cell_type": "code",
   "execution_count": 1,
   "metadata": {},
   "outputs": [
    {
     "name": "stdout",
     "output_type": "stream",
     "text": [
      "[0, 1, 2, 3, 4, 5, 6, 7, 8, 9, 10, 11, 12, 13, 14, 15, 16, 17, 18, 19, 20, 21, 22, 23, 24, 25, 26, 27, 28, 29, 30, 31, 32, 33, 34, 35, 36, 37, 38, 39, 40, 41, 42, 43, 44, 45, 46, 47, 48, 49, 50, 51, 52, 53, 54, 55, 56, 57, 58, 59, 60, 61, 62, 63, 64, 65, 66, 67, 68, 69, 70, 71, 72, 73, 74, 75, 76, 77, 78, 79, 80, 81, 82, 83, 84, 85, 86, 87, 88, 89, 90, 91, 92, 93, 94, 95, 96, 97, 98, 99]\n",
      "[0, 1, 2, 3, 4, 5, 6, 7, 8, 9, 10, 11, 12, 13, 14, 15, 16, 17, 18, 19, 20, 21, 22, 23, 24, 25, 26, 27, 28, 29, 30, 31, 32, 33, 34, 35, 36, 37, 38, 39, 40, 41, 42, 43, 44, 45, 46, 47, 48, 49, 50, 51, 52, 53, 54, 55, 56, 57, 58, 59, 60, 61, 62, 63, 64, 65, 66, 67, 68, 69, 70, 71, 72, 73, 74, 75, 76, 77, 78, 79, 80, 81, 82, 83, 84, 85, 86, 87, 88, 89, 90, 91, 92, 93, 94, 95, 96, 97, 98, 99]\n"
     ]
    }
   ],
   "source": [
    "my_list = []\n",
    "\n",
    "for i in range(100):\n",
    "    my_list.append(i)\n",
    "    \n",
    "    \n",
    "new_list = [i for i in range(100)]\n",
    "print(my_list)\n",
    "print(new_list)"
   ]
  },
  {
   "cell_type": "markdown",
   "metadata": {},
   "source": [
    "## Which in python looks like this:"
   ]
  },
  {
   "cell_type": "code",
   "execution_count": 2,
   "metadata": {},
   "outputs": [
    {
     "name": "stdout",
     "output_type": "stream",
     "text": [
      "[23, 4, 6, 15, 5, 7]\n"
     ]
    }
   ],
   "source": [
    "array = [23,4,6,15,5,7]\n",
    "print(array)"
   ]
  },
  {
   "cell_type": "markdown",
   "metadata": {},
   "source": [
    "### Let's take a look at some of the time and space analysis of arrays"
   ]
  },
  {
   "cell_type": "code",
   "execution_count": 3,
   "metadata": {},
   "outputs": [
    {
     "name": "stdout",
     "output_type": "stream",
     "text": [
      "23\n",
      "4\n",
      "6\n",
      "15\n",
      "5\n",
      "7\n"
     ]
    }
   ],
   "source": [
    "#Indexing an array(list)\n",
    "indexing = array[1] #constant time and space - O(1)\n",
    "\n",
    "#searching through an array(list)\n",
    "#linear time - O(n)\n",
    "for x in array:\n",
    "    print(x)\n",
    "    \n",
    "    \n",
    "#copying an array\n",
    "#linear time - O(n) AND linear space - O(n)\n",
    "copy_array = array[:]\n",
    "\n",
    "#setting an index in an array(list)\n",
    "#Constant time AND Constant Space - O(1)\n",
    "array[2] = 100"
   ]
  },
  {
   "cell_type": "code",
   "execution_count": 5,
   "metadata": {},
   "outputs": [
    {
     "name": "stdout",
     "output_type": "stream",
     "text": [
      "1\n",
      "2\n",
      "3\n",
      "1\n",
      "2\n",
      "3\n",
      "1\n",
      "2\n",
      "3\n",
      "1\n",
      "2\n",
      "3\n",
      "1\n",
      "2\n",
      "3\n",
      "1\n",
      "2\n",
      "3\n"
     ]
    },
    {
     "data": {
      "text/plain": [
       "[1, 2, 100]"
      ]
     },
     "execution_count": 5,
     "metadata": {},
     "output_type": "execute_result"
    }
   ],
   "source": [
    "def some_func(nums):\n",
    "    for n in nums: #Quadratic Operation - O(n^2)\n",
    "        for x in nums: #linear Operation - O(n)\n",
    "            print(x) #Constant Operation - O(1)\n",
    "        for y in nums: #linear Operation - O(n)\n",
    "            print(y) #Constant Operation - O(1)\n",
    "    nums[2] = 100 #Constant Operation - O(n^2\n",
    "    return nums  #Quadratic Operation - O(n^2\n",
    "\n",
    "some_func([1,2,3])\n",
    "# O(n^2)"
   ]
  },
  {
   "cell_type": "markdown",
   "metadata": {},
   "source": [
    "## Stacks and Queues (Review)\n",
    "\n",
    "** Stacks ** as the name suggests is a data structure that allows for data to follow the Last In First Out priciple(LIFO). Think of a stack of pancakes for example. To get the first pancake you would  start with the top and go down.\n",
    "\n",
    "##### Searching through a stack will be Linear Time O(n) - Constant Space O(1)\n",
    "\n",
    "##### Selecting the last item will be done in Constant Time O(1) - Constant Space O(1)\n",
    "\n",
    "##### Adding to the stack should take Constant Time O(1) - Constant Space O(1)\n",
    "\n",
    "** Queues ** are similar but in this case follow the First In First Out principle(FIFO). Think of this as a line in a black friday sale. The first person camped out for the big screen tv is the first to get it.\n",
    "\n",
    "##### Searching through a queue will be Linear Time O(n) - Constant Space O(1)\n",
    " \n",
    "##### Selecting the first item will be done in Constant Time O(1) - Constant Space O(1)\n",
    "\n",
    "##### Adding to the queue should take Constant Time O(1) - Constant Space O(1)"
   ]
  },
  {
   "cell_type": "code",
   "execution_count": 12,
   "metadata": {},
   "outputs": [
    {
     "name": "stdout",
     "output_type": "stream",
     "text": [
      "STACK\n",
      "3\n",
      "2\n",
      "1\n",
      "QUEUE:\n",
      "1\n",
      "2\n",
      "3\n"
     ]
    }
   ],
   "source": [
    "stack = []\n",
    "\n",
    "stack.append(1)\n",
    "stack.append(2)\n",
    "stack.append(3)\n",
    "\n",
    "print('STACK')\n",
    "while stack:\n",
    "    grab_item = stack.pop()\n",
    "    print(grab_item)\n",
    "    \n",
    "queue = []\n",
    "\n",
    "queue.append(1)\n",
    "queue.append(2)\n",
    "queue.append(3)\n",
    "\n",
    "print('QUEUE:')\n",
    "while queue:\n",
    "    grab_item = queue.pop(0)\n",
    "    print(grab_item)"
   ]
  },
  {
   "cell_type": "code",
   "execution_count": 25,
   "metadata": {},
   "outputs": [
    {
     "name": "stdout",
     "output_type": "stream",
     "text": [
      "STACK:\n",
      "3\n",
      "2\n",
      "1\n",
      "QUEUE:\n",
      "1\n",
      "2\n",
      "3\n"
     ]
    }
   ],
   "source": [
    "from collections import deque\n",
    "\n",
    "stack = deque([1, 2, 3])\n",
    "print('STACK:')\n",
    "while stack:\n",
    "    print(stack.pop())\n",
    "    \n",
    "queue = deque([1, 2, 3])\n",
    "print('QUEUE:')\n",
    "while queue:\n",
    "    print(queue.popleft())"
   ]
  },
  {
   "cell_type": "markdown",
   "metadata": {},
   "source": [
    "## Linked List (Data Structure)\n",
    "\n",
    "A linked list is created by using the node class. We create a Node object and create another class to use this node object. We pass the appropriate values thorugh the node object to point the to the next data elements.\n",
    "\n",
    "There are some advantages and disadvantages with this data structure. **Advantages** Linked Lists can save memory because they can be flexibile with memory management which saves memory. **Disadvantages** Finding or adding to the list requires traversing the entire list."
   ]
  },
  {
   "cell_type": "code",
   "execution_count": 16,
   "metadata": {},
   "outputs": [
    {
     "name": "stdout",
     "output_type": "stream",
     "text": [
      "Monday\n",
      "Tuesday\n",
      "Wednesday\n"
     ]
    }
   ],
   "source": [
    "class LinkedListNode():\n",
    "    def __init__(self, value):\n",
    "        self.value = value\n",
    "        self.next = None\n",
    "        \n",
    "    def traverse_list(self):\n",
    "        node = self\n",
    "        while node != None:\n",
    "            print(node.value)\n",
    "            node = node.next\n",
    "            \n",
    "            \n",
    "            \n",
    "node1 = LinkedListNode('Monday') \n",
    "node2 = LinkedListNode('Tuesday')\n",
    "node3 = LinkedListNode('Wednesday') \n",
    "\n",
    "\n",
    "node1.next = node2\n",
    "node2.next = node3\n",
    "\n",
    "node1.traverse_list()"
   ]
  },
  {
   "cell_type": "code",
   "execution_count": 3,
   "metadata": {},
   "outputs": [
    {
     "name": "stdout",
     "output_type": "stream",
     "text": [
      "Sunday\n",
      "Monday\n",
      "Tuesday\n",
      "Wednesday\n",
      "Thursday\n"
     ]
    }
   ],
   "source": [
    "# Full Implementation\n",
    "# 2 Classes - Node Class + LinkedList Class\n",
    "\n",
    "class Node:\n",
    "    def __init__(self, value):\n",
    "        self.value = value\n",
    "        self.next = None\n",
    "        \n",
    "\n",
    "class LinkedList:\n",
    "    def __init__(self):\n",
    "        self.head = None\n",
    "        \n",
    "    # Add a new node to the front of the Linked List\n",
    "    def push_on(self, new_value):\n",
    "        new_node = Node(new_value)\n",
    "        new_node.next = self.head\n",
    "        self.head = new_node\n",
    "        \n",
    "    # Add a new node to the end of the linked list\n",
    "    def append(self, new_value):\n",
    "        new_node = Node(new_value)\n",
    "        \n",
    "        # check if the linked list is empty, set the head to our new node\n",
    "        if self.head is None:\n",
    "            self.head = new_node\n",
    "        # If the linked list is not empty, traverse to the end and set the end node.next to our new node\n",
    "        else:    \n",
    "            last = self.head\n",
    "\n",
    "            # Continue to get the next node until node.next is None meaning we are at the end of linked list\n",
    "            while last.next:\n",
    "                last = last.next\n",
    "\n",
    "            last.next = new_node\n",
    "    \n",
    "    # Add a new node after a node in the linked list (middle of the list)\n",
    "    def insert_after(self, prev_node, new_value):\n",
    "        # Check if the previous node even exists\n",
    "        if prev_node is None:\n",
    "            print('The given previous node must not be mepty!')\n",
    "            return\n",
    "        \n",
    "        new_node = Node(new_value)\n",
    "        # point the new node's next to the previous node's (soon-to-be) former next\n",
    "        new_node.next = prev_node.next\n",
    "        # point the previous node to the new node\n",
    "        prev_node.next = new_node\n",
    "        \n",
    "        \n",
    "    def traverse(self):\n",
    "        node = self.head\n",
    "        while node:\n",
    "            print(node.value)\n",
    "            node = node.next\n",
    "        \n",
    "        \n",
    "        \n",
    "    \n",
    "\n",
    "weekday_links = LinkedList()\n",
    "weekday_links.push_on('Monday')\n",
    "weekday_links.append('Tuesday')\n",
    "weekday_links.append('Thursday')\n",
    "weekday_links.insert_after(weekday_links.head.next, 'Wednesday')\n",
    "weekday_links.push_on('Sunday')\n",
    "weekday_links.traverse()"
   ]
  },
  {
   "cell_type": "code",
   "execution_count": 4,
   "metadata": {},
   "outputs": [
    {
     "data": {
      "text/plain": [
       "'Monday'"
      ]
     },
     "execution_count": 4,
     "metadata": {},
     "output_type": "execute_result"
    }
   ],
   "source": [
    "weekday_links.head.next.value"
   ]
  },
  {
   "cell_type": "markdown",
   "metadata": {},
   "source": [
    "\n",
    "## Binary Search Trees"
   ]
  },
  {
   "cell_type": "code",
   "execution_count": 5,
   "metadata": {},
   "outputs": [
    {
     "data": {
      "text/plain": [
       "10"
      ]
     },
     "execution_count": 5,
     "metadata": {},
     "output_type": "execute_result"
    }
   ],
   "source": [
    "class BST:\n",
    "    def __init__(self, value):\n",
    "        self.value = value\n",
    "        self.left = None\n",
    "        self.right = None\n",
    "        \n",
    "    def insert(self, new_value):\n",
    "        if new_value < self.value:\n",
    "            if self.left is None:\n",
    "                self.left = BST(new_value)\n",
    "            else:\n",
    "                self.left.insert(new_value)\n",
    "        else:\n",
    "            if self.right is None:\n",
    "                self.right = BST(new_value)\n",
    "            else:\n",
    "                self.right.insert(new_value)\n",
    "                \n",
    "                \n",
    "    def contains(self, target):\n",
    "        if target < self.value:\n",
    "            if self.left is None:\n",
    "                return False\n",
    "            else:\n",
    "                return self.left.contains(target)\n",
    "        elif target > self.value:\n",
    "            if self.right is None:\n",
    "                return False\n",
    "            else:\n",
    "                return self.right.contains(target)\n",
    "        else:\n",
    "            return True\n",
    "    \n",
    "    def get_min_value(self):\n",
    "        if self.left is None:\n",
    "            return self.value\n",
    "        else:\n",
    "            return self.left.get_min_value()\n",
    "        \n",
    "    def get_max_value(self):\n",
    "        if self.right is None:\n",
    "            return self.value\n",
    "        else:\n",
    "            return self.right.get_max_value()\n",
    "        \n",
    "    def remove(self, value_to_remove, parent=None):\n",
    "        if value_to_remove < self.value:\n",
    "            if self.left is not None:\n",
    "                self.left.remove(value_to_remove, self)\n",
    "        elif value_to_remove > self.value:\n",
    "            if self.right is not None:\n",
    "                self.right.remove(value_to_remove, self)\n",
    "        else:\n",
    "            if self.left is not None and self.right is not None:\n",
    "                self.value = self.right.get_min_value()\n",
    "                self.right.remove(self.value, self)\n",
    "            elif parent is None:\n",
    "                if self.left is not None:\n",
    "                    self.value = self.left.value\n",
    "                    self.right = self.left.right\n",
    "                    self.left = self.left.left\n",
    "                elif self.right is not None:\n",
    "                    self.value = self.right.value\n",
    "                    self.right = self.right.right\n",
    "                    self.left = self.right.left\n",
    "                else:\n",
    "                    self.value = None\n",
    "            elif parent.left == self:\n",
    "#                 if self.left is not None:\n",
    "#                     parent.left = self.left\n",
    "#                 else:\n",
    "#                     parent.left = self.right\n",
    "                parent.left = self.left if self.left is not None else self.right\n",
    "            elif parent.right == self:\n",
    "                parent.right = self.left if self.left is not None else self.right\n",
    "#         return self\n",
    "                    \n",
    "    \n",
    "my_tree = BST(50)\n",
    "my_tree.insert(25)\n",
    "my_tree.insert(35)\n",
    "my_tree.insert(10)\n",
    "my_tree.insert(28)\n",
    "my_tree.insert(45)\n",
    "my_tree.contains(28)\n",
    "my_tree.get_min_value()"
   ]
  },
  {
   "cell_type": "markdown",
   "metadata": {},
   "source": [
    "# Homework"
   ]
  },
  {
   "cell_type": "markdown",
   "metadata": {},
   "source": [
    "#### Problem 1: Linked Lists\n",
    "\n",
    "Using the above examples as a guide, create your own interpretation of the a Linked List class. You can not use the code above exactly, but again it can be used as a guide. This problem requires you to think about how a linked list works and create one using your own logic.\n",
    "\n",
    "*Remember* A Linked List is a list of Nodes that point to the next node in the chain. The first Node starts out as Empty(None) and each node after points to the next.\n",
    "\n",
    "Your Linked List should have a traverse method and have the ability to add a new node"
   ]
  },
  {
   "cell_type": "code",
   "execution_count": 8,
   "metadata": {},
   "outputs": [],
   "source": [
    "class Node: \n",
    "\n",
    "    # Constructor to initialize the node object \n",
    "    def __init__(self, data): \n",
    "        self.data = data \n",
    "        self.next = None\n",
    "\n",
    "\n",
    "class LinkedList:\n",
    "    def __init__(self, data):\n",
    "        self.data = data\n",
    "        self.next = None\n",
    "    \n",
    "    def traverse_node(self):\n",
    "        node = self\n",
    "        while node != None:\n",
    "            print(node.data)\n",
    "            node = node.next\n",
    "            \n",
    "    #method to add new node\n",
    "    \n",
    "    def push(self, new_data):\n",
    "        new_node = Node(new_data)\n",
    "        new_node.next = self.head\n",
    "        self.head = new_node\n",
    "            \n",
    "    def delNode(self, key):\n",
    "        if key == 1:return self.next\n",
    "        temp = self\n",
    "        position = 1\n",
    "        while temp.next != None and position +1 != key:\n",
    "            temp = temp.next\n",
    "            position +=1\n",
    "        if temp.next == None: return self\n",
    "        temp.next = temp.next.next\n",
    "        return self\n",
    "    \n"
   ]
  },
  {
   "cell_type": "markdown",
   "metadata": {},
   "source": [
    "#### Problem 2: Binary Search Tree\n",
    "\n",
    "Using the above examples as a guide, create your own interpretation of the a Binary Search Tree class. You can not use the code above exactly, but again it can be used as a guide. This problem requires you to think about how a Binary Search Tree works and create one using your own logic.\n",
    "\n",
    "*Remember* Binary Search Trees start with a head node and each node to the left of that will be smaller, each node to the right of it will be greater. The far left node should be the lowest number(if one exists) that is available. The far right node (if one exists) should be the greatest number"
   ]
  },
  {
   "cell_type": "code",
   "execution_count": null,
   "metadata": {},
   "outputs": [],
   "source": [
    "class BST:\n",
    "    def __init__(self, data):\n",
    "        self.data = data\n",
    "        self.left = None\n",
    "        self.right = None\n",
    "        \n",
    "    "
   ]
  },
  {
   "cell_type": "code",
   "execution_count": null,
   "metadata": {},
   "outputs": [],
   "source": []
  }
 ],
 "metadata": {
  "kernelspec": {
   "display_name": "Python 3 (ipykernel)",
   "language": "python",
   "name": "python3"
  },
  "language_info": {
   "codemirror_mode": {
    "name": "ipython",
    "version": 3
   },
   "file_extension": ".py",
   "mimetype": "text/x-python",
   "name": "python",
   "nbconvert_exporter": "python",
   "pygments_lexer": "ipython3",
   "version": "3.9.7"
  }
 },
 "nbformat": 4,
 "nbformat_minor": 2
}
